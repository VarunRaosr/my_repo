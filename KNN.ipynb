{
 "cells": [
  {
   "cell_type": "code",
   "execution_count": 8,
   "metadata": {
    "collapsed": true
   },
   "outputs": [],
   "source": [
    "import numpy as np\n",
    "import pandas as pd\n",
    "from math import sqrt"
   ]
  },
  {
   "cell_type": "code",
   "execution_count": 37,
   "metadata": {
    "collapsed": true
   },
   "outputs": [],
   "source": [
    "data = np.array( [(3,104), (2,100), (1,81), (101,10) , (99,5) , (98,2) ])\n",
    "\n",
    "movies = [(0,\"California Dude\",\"R\"),(1,\"He's not that into you\",\"R\"),(3,\"Beautiful Woman\",\"R\"),(4,\"Terminator\",\"A\"),\n",
    "          (5,\"Tai chi\",\"A\"),(6,\"A Team\",\"A\")]\n",
    "new_pt = (18,90)\n",
    "\n",
    "def distance_calc(data,new):\n",
    "    \"\"\"\n",
    "    \"\"\"\n",
    "    dist = [ (index,sqrt((ele[0]-new[0])**2 + (ele[1]-new[1])**2)) for index,ele in enumerate(data)]\n",
    "    dist = sorted(dist,key= lambda x:x[1])\n",
    "    return dist"
   ]
  },
  {
   "cell_type": "code",
   "execution_count": 44,
   "metadata": {},
   "outputs": [
    {
     "name": "stdout",
     "output_type": "stream",
     "text": [
      "[(1, 18.867962264113206), (2, 19.235384061671343), (0, 20.518284528683193), (3, 115.27792503337315), (4, 117.41379816699569), (5, 118.92854997854805)]\n"
     ]
    },
    {
     "data": {
      "text/plain": [
       "'R'"
      ]
     },
     "execution_count": 44,
     "metadata": {},
     "output_type": "execute_result"
    }
   ],
   "source": [
    "x =distance_calc(data,new_pt)\n",
    "print(x)\n",
    "def predict_genre(lis,movies):\n",
    "    d = {}\n",
    "    if len(lis)>=3:\n",
    "        for val in lis[:3]:\n",
    "            d[movies[val[0]][2]] = d.get(movies[val[0]][2],0)\n",
    "            \n",
    "    return list(d.keys())[0]\n",
    "\n",
    "genres = predict_genre(x,movies)\n",
    "genres"
   ]
  },
  {
   "cell_type": "code",
   "execution_count": 45,
   "metadata": {
    "collapsed": true
   },
   "outputs": [],
   "source": [
    "import operator"
   ]
  },
  {
   "cell_type": "code",
   "execution_count": 65,
   "metadata": {},
   "outputs": [],
   "source": [
    "def createDataset():\n",
    "    group = array([[1.0,1.1],[1.0,1.0],[0,0],[0,0.1] ])\n",
    "    labels = ['A','A','B','B']\n",
    "    return group,labels\n"
   ]
  },
  {
   "cell_type": "code",
   "execution_count": 69,
   "metadata": {},
   "outputs": [],
   "source": [
    "def classify(inX, dataSet, labels, k):\n",
    "    dataSetSize = dataSet.shape[0]\n",
    "    diffMat = tile(inX, (dataSetSize,1)) - dataSet\n",
    "    sqDiffMat = diffMat **2\n",
    "    sqDistances = sqDiffMat.sum(axis=1)\n",
    "    distances = sqDistances**0.5\n",
    "    sortedDistIndices = distances.argsort()\n",
    "    classCount = {}\n",
    "    for i in range(k):\n",
    "        votelabel = labels[sortedDistIndices[i]]\n",
    "        classCount[votelabel] = classCount.get(votelabel,0) + 1\n",
    "    sortedClassCount = sorted(classCount.items() , key = operator.itemgetter(1), reverse = True)\n",
    "    return sortedClassCount[0][0]\n",
    "    \n",
    "    "
   ]
  },
  {
   "cell_type": "code",
   "execution_count": 72,
   "metadata": {},
   "outputs": [
    {
     "data": {
      "text/plain": [
       "'A'"
      ]
     },
     "execution_count": 72,
     "metadata": {},
     "output_type": "execute_result"
    }
   ],
   "source": [
    "group, labels = createDataset()\n",
    "res = classify([2,0],group,labels,3)\n",
    "res"
   ]
  },
  {
   "cell_type": "code",
   "execution_count": null,
   "metadata": {
    "collapsed": true
   },
   "outputs": [],
   "source": [
    "def filetoMatrix(filename):\n",
    "    with open(filename) as f:\n",
    "        lines = f.readlines()\n",
    "        no_of_lines = len(lines)\n",
    "        retMat = zeros((no_of_lines,3))\n",
    "        classlabel = []\n",
    "        index = 0\n",
    "        for line in lines:\n",
    "            line = line.strip()\n",
    "            list_of_line = line.split(\"\\t\")\n",
    "            retMat[index,:] = list_of_line[0:3]\n",
    "            classlabel.append(int(list_of_line[-1]))\n",
    "            index += 1\n",
    "        return retMat, classlabel"
   ]
  }
 ],
 "metadata": {
  "kernelspec": {
   "display_name": "Python 3",
   "language": "python",
   "name": "python3"
  },
  "language_info": {
   "codemirror_mode": {
    "name": "ipython",
    "version": 3
   },
   "file_extension": ".py",
   "mimetype": "text/x-python",
   "name": "python",
   "nbconvert_exporter": "python",
   "pygments_lexer": "ipython3",
   "version": "3.6.6"
  }
 },
 "nbformat": 4,
 "nbformat_minor": 2
}
