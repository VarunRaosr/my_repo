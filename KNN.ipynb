{
 "cells": [
  {
   "cell_type": "code",
   "execution_count": 1,
   "metadata": {
    "collapsed": true
   },
   "outputs": [],
   "source": [
    "import numpy as np\n",
    "import pandas as pd\n",
    "from math import sqrt"
   ]
  },
  {
   "cell_type": "code",
   "execution_count": 2,
   "metadata": {
    "collapsed": true
   },
   "outputs": [],
   "source": [
    "data = np.array( [(3,104), (2,100), (1,81), (101,10) , (99,5) , (98,2) ])\n",
    "\n",
    "movies = [(0,\"California Dude\",\"R\"),(1,\"He's not that into you\",\"R\"),(3,\"Beautiful Woman\",\"R\"),(4,\"Terminator\",\"A\"),\n",
    "          (5,\"Tai chi\",\"A\"),(6,\"A Team\",\"A\")]\n",
    "new_pt = (18,90)\n",
    "\n",
    "def distance_calc(data,new):\n",
    "    \"\"\"\n",
    "    \"\"\"\n",
    "    dist = [ (index,sqrt((ele[0]-new[0])**2 + (ele[1]-new[1])**2)) for index,ele in enumerate(data)]\n",
    "    dist = sorted(dist,key= lambda x:x[1])\n",
    "    return dist"
   ]
  },
  {
   "cell_type": "code",
   "execution_count": 3,
   "metadata": {},
   "outputs": [
    {
     "name": "stdout",
     "output_type": "stream",
     "text": [
      "[(1, 18.867962264113206), (2, 19.235384061671343), (0, 20.518284528683193), (3, 115.27792503337315), (4, 117.41379816699569), (5, 118.92854997854805)]\n"
     ]
    },
    {
     "data": {
      "text/plain": [
       "'R'"
      ]
     },
     "execution_count": 3,
     "metadata": {},
     "output_type": "execute_result"
    }
   ],
   "source": [
    "x =distance_calc(data,new_pt)\n",
    "print(x)\n",
    "def predict_genre(lis,movies):\n",
    "    d = {}\n",
    "    if len(lis)>=3:\n",
    "        for val in lis[:3]:\n",
    "            d[movies[val[0]][2]] = d.get(movies[val[0]][2],0)\n",
    "            \n",
    "    return list(d.keys())[0]\n",
    "\n",
    "genres = predict_genre(x,movies)\n",
    "genres"
   ]
  },
  {
   "cell_type": "code",
   "execution_count": 8,
   "metadata": {
    "collapsed": true
   },
   "outputs": [],
   "source": [
    "import operator\n",
    "from numpy import *"
   ]
  },
  {
   "cell_type": "code",
   "execution_count": 9,
   "metadata": {
    "collapsed": true
   },
   "outputs": [],
   "source": [
    "def createDataset():\n",
    "    group = array([[1.0,1.1],[1.0,1.0],[0,0],[0,0.1] ])\n",
    "    labels = ['A','A','B','B']\n",
    "    return group,labels\n"
   ]
  },
  {
   "cell_type": "code",
   "execution_count": 10,
   "metadata": {
    "collapsed": true
   },
   "outputs": [],
   "source": [
    "def classify(inX, dataSet, labels, k):\n",
    "    dataSetSize = dataSet.shape[0]\n",
    "    diffMat = tile(inX, (dataSetSize,1)) - dataSet\n",
    "    sqDiffMat = diffMat **2\n",
    "    sqDistances = sqDiffMat.sum(axis=1)\n",
    "    distances = sqDistances**0.5\n",
    "    sortedDistIndices = distances.argsort()\n",
    "    classCount = {}\n",
    "    for i in range(k):\n",
    "        votelabel = labels[sortedDistIndices[i]]\n",
    "        classCount[votelabel] = classCount.get(votelabel,0) + 1\n",
    "    sortedClassCount = sorted(classCount.items() , key = operator.itemgetter(1), reverse = True)\n",
    "    return sortedClassCount[0][0]\n",
    "    \n",
    "    "
   ]
  },
  {
   "cell_type": "code",
   "execution_count": 13,
   "metadata": {},
   "outputs": [
    {
     "name": "stdout",
     "output_type": "stream",
     "text": [
      "[[ 1.   1.1]\n",
      " [ 1.   1. ]\n",
      " [ 0.   0. ]\n",
      " [ 0.   0.1]]\n"
     ]
    }
   ],
   "source": [
    "group, labels = createDataset()\n",
    "res = classify([2,0],group,labels,3)\n",
    "# res\n",
    "print(group)"
   ]
  },
  {
   "cell_type": "code",
   "execution_count": 12,
   "metadata": {
    "collapsed": true
   },
   "outputs": [],
   "source": [
    "def filetoMatrix(filename):\n",
    "    with open(filename) as f:\n",
    "        lines = f.readlines()\n",
    "        no_of_lines = len(lines)\n",
    "        retMat = zeros((no_of_lines,3))\n",
    "        classlabel = []\n",
    "        index = 0\n",
    "        for line in lines:\n",
    "            line = line.strip()\n",
    "            list_of_line = line.split(\"\\t\")\n",
    "            retMat[index,:] = list_of_line[0:3]\n",
    "            classlabel.append(int(list_of_line[-1]))\n",
    "            index += 1\n",
    "        return retMat, classlabel"
   ]
  },
  {
   "cell_type": "code",
   "execution_count": 31,
   "metadata": {},
   "outputs": [
    {
     "data": {
      "text/plain": [
       "(array([[-0.  , -0.  ],\n",
       "        [-0.25, -0.25],\n",
       "        [-0.5 , -0.5 ],\n",
       "        [-0.75, -0.75],\n",
       "        [-1.  , -1.  ]]), array([-8, -8]), array([1, 2]))"
      ]
     },
     "execution_count": 31,
     "metadata": {},
     "output_type": "execute_result"
    }
   ],
   "source": [
    "def autoNorm(dataSet):\n",
    "    minVals = dataSet.min(0)\n",
    "    maxVals = dataSet.max(0)\n",
    "    ranges = minVals - maxVals\n",
    "    \n",
    "    normDataSet = zeros(shape(dataSet))\n",
    "    \n",
    "    m = dataSet.shape[0]\n",
    "    normDataSet = dataSet - tile(minVals,(m,1))\n",
    "    normDataSet = normDataSet/ tile(ranges,(m,1))\n",
    "    return normDataSet, ranges, minVals\n",
    "    \n",
    "arr = np.arange(1,11).reshape(5,2)\n",
    "\n",
    "autoNorm(arr)"
   ]
  },
  {
   "cell_type": "code",
   "execution_count": 32,
   "metadata": {
    "collapsed": true
   },
   "outputs": [],
   "source": [
    "def classtest():\n",
    "    hoRatio = 0.1\n",
    "    dataMat, dataLabels = filetoMatrix('testfile.txt')\n",
    "    normMat , ranges, minValues = autoNorm(dataMat)\n",
    "    m = normMat.shape[0]\n",
    "    numTestVecs = int(m*hoRatio)\n",
    "    error = 0.0\n",
    "    for i in range(numTestVecs):\n",
    "        result = classify(normMat[i,:],normMat[numTestVecs:m,:],dataLabels[numTestVecs:m],3)\n",
    "        print(\"classifier result\",result)\n",
    "        if (result != dataLabels[i]):\n",
    "            error += 1\n",
    "    print(\"total error is {0}\".format(error/float(numTestVecs)))"
   ]
  }
 ],
 "metadata": {
  "kernelspec": {
   "display_name": "Python 3",
   "language": "python",
   "name": "python3"
  },
  "language_info": {
   "codemirror_mode": {
    "name": "ipython",
    "version": 3
   },
   "file_extension": ".py",
   "mimetype": "text/x-python",
   "name": "python",
   "nbconvert_exporter": "python",
   "pygments_lexer": "ipython3",
   "version": "3.6.6"
  }
 },
 "nbformat": 4,
 "nbformat_minor": 2
}
